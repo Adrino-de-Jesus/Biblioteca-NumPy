{
  "nbformat": 4,
  "nbformat_minor": 0,
  "metadata": {
    "colab": {
      "provenance": []
    },
    "kernelspec": {
      "name": "python3",
      "display_name": "Python 3"
    },
    "language_info": {
      "name": "python"
    }
  },
  "cells": [
    {
      "cell_type": "markdown",
      "source": [
        "# **Introdução à Biblioteca NumPy em Python**\n",
        "\n",
        "O NumPy é uma biblioteca em Python para computação científica, especialmente para cálculos numéricos em larga escala e manipulação de arrays multidimensionais. O nome NumPy é uma abreviação de “Numeric Python” (Python Numérico).\n",
        "\n",
        "O NumPy oferece uma ampla gama de funções e operações matemáticas, incluindo funções de álgebra linear, transformadas de Fourier, geração de números aleatórios, estatísticas e muito mais.\n",
        "\n",
        "Uma das principais vantagens do NumPy é sua capacidade de lidar com grandes quantidades de dados de maneira rápida e eficiente, graças à implementação de operações vetorizadas. Essas operações permitem que cálculos em grandes conjuntos de dados sejam executados de forma eficiente e com menos código."
      ],
      "metadata": {
        "id": "8LOnUxDr5TPo"
      }
    },
    {
      "cell_type": "markdown",
      "source": [
        "# **O que é um array em NumPy?**\n",
        "\n",
        "Em NumPy, um array é um tipo de objeto que representa uma coleção de elementos homogêneos (ou seja, do mesmo tipo) organizados em uma ou mais dimensões. Esses arrays podem ser de diferentes formas (ou seja, números de dimensões e tamanhos), e cada elemento em um array é indexado por uma tupla de inteiros não negativos.\n",
        "\n",
        "Por exemplo:\n",
        "\n",
        "Array de uma dimensão:\n",
        "\n",
        "`1 5 9 3 2 4 2 1 6 5 7 0 8`\n",
        "\n",
        "Array de duas dimensões (três linhas por quatro colunas, 3×4):\n",
        "\n",
        "\n",
        "```\n",
        "1 5 9 3\n",
        "2 4 2 1\n",
        "6 5 7 0\n",
        "```"
      ],
      "metadata": {
        "id": "x4QZSwul51ev"
      }
    },
    {
      "cell_type": "markdown",
      "source": [
        "# **Tutorial básico de NumPy**\n",
        "\n",
        "Em suma, os arrays em NumPy são usados para representar dados em muitas áreas diferentes, incluindo processamento de imagens, aprendizado de máquina e ciência de dados em geral.\n",
        "\n",
        "Para criar arrays em NumPy empregamos a função `numpy.array()` Veremos 10 exemplos de uso da biblioteca Numpy a seguir.\n"
      ],
      "metadata": {
        "id": "ElnSFKEh7aV7"
      }
    },
    {
      "cell_type": "markdown",
      "source": [
        "# 1. Como instalar o NumPy\n",
        "\n",
        "Antes de começar a usar o NumPy, precisamos instalá-lo em seu sistema. Podemos instalar o pacote usando o gerenciador de pacotes pip "
      ],
      "metadata": {
        "id": "Rp2e1Ry88u0h"
      }
    },
    {
      "cell_type": "code",
      "source": [
        "# Como instalar biblioteca NumPy\n",
        "!pip install numpy"
      ],
      "metadata": {
        "colab": {
          "base_uri": "https://localhost:8080/"
        },
        "id": "ALmB9INg42CG",
        "outputId": "ad128f91-3cc4-4248-cf93-99218c688c8f"
      },
      "execution_count": 4,
      "outputs": [
        {
          "output_type": "stream",
          "name": "stdout",
          "text": [
            "Looking in indexes: https://pypi.org/simple, https://us-python.pkg.dev/colab-wheels/public/simple/\n",
            "Requirement already satisfied: numpy in /usr/local/lib/python3.9/dist-packages (1.22.4)\n"
          ]
        }
      ]
    },
    {
      "cell_type": "markdown",
      "source": [
        "# 2. Importar o NumPy\n",
        "\n",
        "Depois de instalar o NumPy, precisamos importá-lo para poder usar a biblioteca e suas funções:"
      ],
      "metadata": {
        "id": "R7qSLdK_-sQD"
      }
    },
    {
      "cell_type": "code",
      "source": [
        "# importanto a biblioteca\n",
        "import numpy as np"
      ],
      "metadata": {
        "id": "aG10NBac-zW5"
      },
      "execution_count": 7,
      "outputs": []
    },
    {
      "cell_type": "markdown",
      "source": [
        "# 3. Criação de arrays\n",
        "\n",
        "O NumPy é usado principalmente para trabalhar com arrays multidimensionais. Podemos criar um array NumPy usando a função `array():`"
      ],
      "metadata": {
        "id": "GyMkez4d_OWi"
      }
    },
    {
      "cell_type": "code",
      "source": [
        "# Esse código cria um array NumPy unidimensional com os valores [1, 2, 3, 4, 5].\n",
        "x = np.array([1, 2, 3, 4,5])\n",
        "print(x)"
      ],
      "metadata": {
        "colab": {
          "base_uri": "https://localhost:8080/"
        },
        "id": "EXjsf6nG-2cJ",
        "outputId": "084cba86-7ae0-44e6-89e5-7c571d48f14e"
      },
      "execution_count": 6,
      "outputs": [
        {
          "output_type": "stream",
          "name": "stdout",
          "text": [
            "[1 2 3 4 5]\n"
          ]
        }
      ]
    },
    {
      "cell_type": "code",
      "source": [
        "# Também podemos criar um array NumPy bidimensional passando uma lista de listas para a função array():\n",
        "x = np.array([[1, 2, 3], [4, 5, 6]])\n",
        "print(x)"
      ],
      "metadata": {
        "colab": {
          "base_uri": "https://localhost:8080/"
        },
        "id": "RgO68O7r_-ij",
        "outputId": "423fec5c-ca41-4c6d-bc12-c4b6af2af6bd"
      },
      "execution_count": 8,
      "outputs": [
        {
          "output_type": "stream",
          "name": "stdout",
          "text": [
            "[[1 2 3]\n",
            " [4 5 6]]\n"
          ]
        }
      ]
    },
    {
      "cell_type": "markdown",
      "source": [
        "# 4. Acessar elementos de um array\n",
        "\n",
        "Podemos acessar os elementos de um array NumPy usando seus números de índice, que iniciam em 0:"
      ],
      "metadata": {
        "id": "SBzo2GPFAteZ"
      }
    },
    {
      "cell_type": "code",
      "source": [
        "x = np.array([1, 2, 3, 4, 5])\n",
        "print(x[0]) # números de índice, que iniciam em 0\n",
        "print(x[1]) # números de índice, que iniciam em 1"
      ],
      "metadata": {
        "colab": {
          "base_uri": "https://localhost:8080/"
        },
        "id": "MN1N615xAsKr",
        "outputId": "469dab3c-2eeb-48ca-df76-5eef3aad97ce"
      },
      "execution_count": 9,
      "outputs": [
        {
          "output_type": "stream",
          "name": "stdout",
          "text": [
            "1\n",
            "2\n"
          ]
        }
      ]
    },
    {
      "cell_type": "code",
      "source": [
        "# Também podemos acessar elementos de um array bidimensional usando índices de linha e coluna:\n",
        "x = np.array([[1, 2, 3], [4, 5, 6]])\n",
        "print(x[0, 0]) # 1\n",
        "print(x[0, 1]) # 2\n",
        "print(x[1, 0]) # 3"
      ],
      "metadata": {
        "colab": {
          "base_uri": "https://localhost:8080/"
        },
        "id": "TNbqkMV4Ap8W",
        "outputId": "8cfc841d-ee3c-4a8a-aac4-8ae4927a3168"
      },
      "execution_count": 10,
      "outputs": [
        {
          "output_type": "stream",
          "name": "stdout",
          "text": [
            "1\n",
            "2\n",
            "4\n"
          ]
        }
      ]
    },
    {
      "cell_type": "markdown",
      "source": [
        "# 5. Operações em arrays\n",
        "\n",
        "O NumPy permite realizar operações em arrays de forma rápida e eficiente. Por exemplo, podemos adicionar dois arrays NumPy da seguinte maneira:"
      ],
      "metadata": {
        "id": "OSwo7SLzCF1y"
      }
    },
    {
      "cell_type": "code",
      "source": [
        "x1 = np.array([1, 2, 3])\n",
        "x2 = np.array([4, 5, 6])\n",
        "x3 = x1 + x2 # somando as duas variaveis\n",
        "print(x3)"
      ],
      "metadata": {
        "colab": {
          "base_uri": "https://localhost:8080/"
        },
        "id": "7bEIqDKVByYn",
        "outputId": "18538969-4142-4bd2-ce17-6b1d6d6abb88"
      },
      "execution_count": 11,
      "outputs": [
        {
          "output_type": "stream",
          "name": "stdout",
          "text": [
            "[5 7 9]\n"
          ]
        }
      ]
    },
    {
      "cell_type": "markdown",
      "source": [
        "# 6. Funções matemáticas\n",
        "\n",
        "O NumPy também oferece muitas funções matemáticas, como por exemplo a função `sqrt()` para calcular a raiz quadrada de um array, `exp()` para calcular a exponencial de um array e `sin()` para calcular o seno de um array:"
      ],
      "metadata": {
        "id": "av-GdjzNC_Bo"
      }
    },
    {
      "cell_type": "code",
      "source": [
        "x = np.array([1, 2, 3])\n",
        "print(np.sqrt(x))\n",
        "print(np.exp(x))\n",
        "print(np.sin(x))"
      ],
      "metadata": {
        "colab": {
          "base_uri": "https://localhost:8080/"
        },
        "id": "6A3NztkNCpMl",
        "outputId": "dac2dad8-e0c3-49a1-972e-205749ca604f"
      },
      "execution_count": 13,
      "outputs": [
        {
          "output_type": "stream",
          "name": "stdout",
          "text": [
            "[1.         1.41421356 1.73205081]\n",
            "[ 2.71828183  7.3890561  20.08553692]\n",
            "[0.84147098 0.90929743 0.14112001]\n"
          ]
        }
      ]
    },
    {
      "cell_type": "markdown",
      "source": [
        "# 7. Reshape de arrays\n",
        "\n",
        "Podemos alterar a forma de um array usando a função `reshape()`\n",
        "\n",
        "Esse código irá criar um novo array bidimensional de formato 2 x 3, a partir de um array unidimensional, com os valores:"
      ],
      "metadata": {
        "id": "JreSKFfLD6dX"
      }
    },
    {
      "cell_type": "code",
      "source": [
        "x = np.array([1, 2, 3, 4, 5, 6])\n",
        "novo_x = x.reshape(2, 3)\n",
        "print(novo_x)"
      ],
      "metadata": {
        "colab": {
          "base_uri": "https://localhost:8080/"
        },
        "id": "bSnsGzUyEHwA",
        "outputId": "0fc1845c-7a46-427c-84da-c32a7eb766e1"
      },
      "execution_count": 14,
      "outputs": [
        {
          "output_type": "stream",
          "name": "stdout",
          "text": [
            "[[1 2 3]\n",
            " [4 5 6]]\n"
          ]
        }
      ]
    },
    {
      "cell_type": "markdown",
      "source": [
        "# 8. Ordenação de arrays\n",
        "\n",
        "O NumPy também oferece funções para ordenação de arrays:\n",
        "\n",
        "Usando a função `sort()` isso criará um novo array com os valores do array original ordenados em ordem crescente.\n"
      ],
      "metadata": {
        "id": "50o-K6FnEvPB"
      }
    },
    {
      "cell_type": "code",
      "source": [
        "x = np.array([3, 2, 1, 5, 4])\n",
        "novo_x = np.sort(x)\n",
        "print(novo_x)"
      ],
      "metadata": {
        "colab": {
          "base_uri": "https://localhost:8080/"
        },
        "id": "G1XUkwI4EkP1",
        "outputId": "f75049cb-2013-4e0b-e9ce-284b12834951"
      },
      "execution_count": 15,
      "outputs": [
        {
          "output_type": "stream",
          "name": "stdout",
          "text": [
            "[1 2 3 4 5]\n"
          ]
        }
      ]
    },
    {
      "cell_type": "code",
      "source": [],
      "metadata": {
        "id": "2simhtVMFALK"
      },
      "execution_count": null,
      "outputs": []
    }
  ]
}